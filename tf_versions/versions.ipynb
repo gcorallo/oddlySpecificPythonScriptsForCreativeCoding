{
 "cells": [
  {
   "cell_type": "code",
   "execution_count": 1,
   "metadata": {},
   "outputs": [
    {
     "name": "stdout",
     "output_type": "stream",
     "text": [
      "python ver: 3.7.3 (default, Mar 27 2019, 22:11:17) \n",
      "[GCC 7.3.0]\n",
      "tensorflow2, ver: 2.0.0-beta1\n",
      "keras ver:2.2.4-tf\n"
     ]
    }
   ],
   "source": [
    "#some version checks.\n",
    "\n",
    "import sys\n",
    "import tensorflow as tf\n",
    "tf_ver = tf.__version__\n",
    "\n",
    "print (\"python ver: \" + sys.version)\n",
    "\n",
    "if tf_ver[0]==\"1\":\n",
    "    print(\"tensorflow1, ver: \" + tf.__version__)\n",
    "    import keras\n",
    "    print(\"keras ver:\" + keras.__version__)\n",
    "    \n",
    "elif tf_ver[0]==\"2\":\n",
    "        print(\"tensorflow2, ver: \" + tf.__version__)\n",
    "        print(\"keras ver:\" + tf.keras.__version__)\n",
    "    \n",
    "            "
   ]
  },
  {
   "cell_type": "code",
   "execution_count": 2,
   "metadata": {},
   "outputs": [
    {
     "name": "stdout",
     "output_type": "stream",
     "text": [
      "GPU available: True\n",
      "Built with CUDA: True\n"
     ]
    }
   ],
   "source": [
    "gpu_ok = tf.test.is_gpu_available()\n",
    "cuda_ok = tf.test.is_built_with_cuda()\n",
    "\n",
    "print(\"GPU available: \"+ str(gpu_ok))\n",
    "print(\"Built with CUDA: \"+ str(cuda_ok))"
   ]
  },
  {
   "cell_type": "code",
   "execution_count": null,
   "metadata": {},
   "outputs": [],
   "source": []
  }
 ],
 "metadata": {
  "kernelspec": {
   "display_name": "Python 3",
   "language": "python",
   "name": "python3"
  },
  "language_info": {
   "codemirror_mode": {
    "name": "ipython",
    "version": 3
   },
   "file_extension": ".py",
   "mimetype": "text/x-python",
   "name": "python",
   "nbconvert_exporter": "python",
   "pygments_lexer": "ipython3",
   "version": "3.7.3"
  }
 },
 "nbformat": 4,
 "nbformat_minor": 2
}
